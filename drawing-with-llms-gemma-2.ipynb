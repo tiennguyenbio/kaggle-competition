{
 "cells": [
  {
   "cell_type": "code",
   "execution_count": 1,
   "id": "1d7f63d4",
   "metadata": {
    "_cell_guid": "b1076dfc-b9ad-4769-8c92-a6c4dae69d19",
    "_uuid": "8f2839f25d086af736a60e9eeb907d3b93b6e0e5",
    "execution": {
     "iopub.execute_input": "2025-03-16T22:53:00.969970Z",
     "iopub.status.busy": "2025-03-16T22:53:00.969570Z",
     "iopub.status.idle": "2025-03-16T22:53:00.974073Z",
     "shell.execute_reply": "2025-03-16T22:53:00.973258Z"
    },
    "papermill": {
     "duration": 0.008978,
     "end_time": "2025-03-16T22:53:00.975344",
     "exception": false,
     "start_time": "2025-03-16T22:53:00.966366",
     "status": "completed"
    },
    "tags": []
   },
   "outputs": [],
   "source": [
    "#| default_exp core"
   ]
  },
  {
   "cell_type": "code",
   "execution_count": 2,
   "id": "36706574",
   "metadata": {
    "execution": {
     "iopub.execute_input": "2025-03-16T22:53:00.979403Z",
     "iopub.status.busy": "2025-03-16T22:53:00.979179Z",
     "iopub.status.idle": "2025-03-16T22:53:11.385001Z",
     "shell.execute_reply": "2025-03-16T22:53:11.384303Z"
    },
    "papermill": {
     "duration": 10.409256,
     "end_time": "2025-03-16T22:53:11.386453",
     "exception": false,
     "start_time": "2025-03-16T22:53:00.977197",
     "status": "completed"
    },
    "tags": []
   },
   "outputs": [],
   "source": [
    "#| export\n",
    "import kagglehub\n",
    "import re\n",
    "import torch\n",
    "import cairosvg\n",
    "from transformers import AutoTokenizer, AutoModelForCausalLM\n",
    "from IPython.display import SVG\n",
    "\n",
    "svg_constraints = kagglehub.package_import('metric/svg-constraints')\n",
    "DEVICE = torch.device(\"cuda\" if torch.cuda.is_available() else \"cpu\")\n",
    "\n",
    "class ParticipantVisibleError(Exception):\n",
    "    pass\n",
    "    \n",
    "class Model:\n",
    "    def __init__(self):\n",
    "        self.model_path = kagglehub.model_download(\"google/gemma-2/transformers/gemma-2-2b-it\")\n",
    "        self.tokenizer = AutoTokenizer.from_pretrained(self.model_path)\n",
    "        self.model = AutoModelForCausalLM.from_pretrained(\n",
    "            self.model_path,\n",
    "            device_map=\"auto\",\n",
    "            torch_dtype=torch.bfloat16,)\n",
    "        self.prompt_template = self.prompt_template = \"\"\"Generate a valid and complete SVG code using given <description>. The output must be started with <svg> element and ended with </svg> element. Use only the following allowed elements and attributes:\n",
    "        \n",
    "        <allowed_elements>: dict[str, set[str]] = {\n",
    "            'common': {\n",
    "                'id', 'clip-path', 'clip-rule', 'color', 'color-interpolation', 'color-interpolation-filters',\n",
    "                'color-rendering', 'display', 'fill', 'fill-opacity', 'fill-rule', 'filter', 'flood-color',\n",
    "                'flood-opacity', 'lighting-color', 'marker-end', 'marker-mid', 'marker-start', 'mask', 'opacity',\n",
    "                'paint-order', 'stop-color', 'stop-opacity', 'stroke', 'stroke-dasharray', 'stroke-dashoffset',\n",
    "                'stroke-linecap', 'stroke-linejoin', 'stroke-miterlimit', 'stroke-opacity', 'stroke-width', 'transform'\n",
    "            },\n",
    "            'svg': {'width', 'height', 'viewBox', 'preserveAspectRatio'},\n",
    "            'g': {'viewBox'},\n",
    "            'defs': set(),\n",
    "            'symbol': {'viewBox', 'x', 'y', 'width', 'height'},\n",
    "            'use': {'x', 'y', 'width', 'height', 'href'},\n",
    "            'marker': {'viewBox', 'preserveAspectRatio', 'refX', 'refY', 'markerUnits', 'markerWidth', 'markerHeight', 'orient'},\n",
    "            'pattern': {'viewBox', 'preserveAspectRatio', 'x', 'y', 'width', 'height', 'patternUnits', 'patternContentUnits', 'patternTransform', 'href'},\n",
    "            'linearGradient': {'x1', 'x2', 'y1', 'y2', 'gradientUnits', 'gradientTransform', 'spreadMethod', 'href'},\n",
    "            'radialGradient': {'cx', 'cy', 'r', 'fx', 'fy', 'fr', 'gradientUnits', 'gradientTransform', 'spreadMethod', 'href'},\n",
    "            'stop': {'offset'},\n",
    "            'filter': {'x', 'y', 'width', 'height', 'filterUnits', 'primitiveUnits'},\n",
    "            'feBlend': {'result', 'in', 'in2', 'mode'},\n",
    "            'feFlood': {'result'},\n",
    "            'feOffset': {'result', 'in', 'dx', 'dy'},\n",
    "            'path': {'d'},\n",
    "            'rect': {'x', 'y', 'width', 'height', 'rx', 'ry'},\n",
    "            'circle': {'cx', 'cy', 'r'},\n",
    "            'ellipse': {'cx', 'cy', 'rx', 'ry'},\n",
    "            'line': {'x1', 'y1', 'x2', 'y2'},\n",
    "            'polyline': {'points'},\n",
    "            'polygon': {'points'}\n",
    "        }\n",
    "           </allowed_elements>\"\"\"\n",
    "        self.svg_default = '<svg width=\"100\" height=\"100\" viewBox=\"0 0 100 100\"><circle cx=\"50\" cy=\"50\" r=\"40\" fill=\"red\" /></svg>'\n",
    "        self.constraints = svg_constraints.SVGConstraints()\n",
    "        pass\n",
    "    def predict(self, prompt: str) -> str:\n",
    "        formatted_description = f\"<description>{prompt}</description>\"\n",
    "        inputs = self.tokenizer(self.prompt_template + formatted_description, return_tensors=\"pt\").to(DEVICE)\n",
    "        \n",
    "        output = self.model.generate(**inputs, max_new_tokens=900)\n",
    "        output_decoded = self.tokenizer.decode(output[0], skip_special_tokens=True)\n",
    "\n",
    "        # matches = re.findall(r\"<svg.*?</svg>\", output_decoded, re.DOTALL | re.IGNORECASE)\n",
    "        # if matches:\n",
    "        #     svg_code = matches[-1]\n",
    "        # else:\n",
    "        #     svg_code = self.svg_default\n",
    "        # try: \n",
    "        #     cairosvg.svg2png(bytestring=svg_code.encode('utf-8')) \n",
    "        #     return svg_code  \n",
    "        # except Exception as e: \n",
    "        #     return self.svg_default\n",
    "        return self.svg_default"
   ]
  },
  {
   "cell_type": "code",
   "execution_count": 3,
   "id": "1a168c7e",
   "metadata": {
    "execution": {
     "iopub.execute_input": "2025-03-16T22:53:11.390789Z",
     "iopub.status.busy": "2025-03-16T22:53:11.390418Z",
     "iopub.status.idle": "2025-03-16T22:53:11.393208Z",
     "shell.execute_reply": "2025-03-16T22:53:11.392632Z"
    },
    "papermill": {
     "duration": 0.006013,
     "end_time": "2025-03-16T22:53:11.394330",
     "exception": false,
     "start_time": "2025-03-16T22:53:11.388317",
     "status": "completed"
    },
    "tags": []
   },
   "outputs": [],
   "source": [
    "# from IPython.display import SVG\n",
    "\n",
    "# model = Model()\n",
    "# svg = model.predict('moon')\n",
    "\n",
    "# print(svg)\n",
    "# display(SVG(svg))"
   ]
  },
  {
   "cell_type": "code",
   "execution_count": 4,
   "id": "d1d7c40f",
   "metadata": {
    "execution": {
     "iopub.execute_input": "2025-03-16T22:53:11.397919Z",
     "iopub.status.busy": "2025-03-16T22:53:11.397679Z",
     "iopub.status.idle": "2025-03-16T22:53:11.400221Z",
     "shell.execute_reply": "2025-03-16T22:53:11.399628Z"
    },
    "papermill": {
     "duration": 0.00546,
     "end_time": "2025-03-16T22:53:11.401289",
     "exception": false,
     "start_time": "2025-03-16T22:53:11.395829",
     "status": "completed"
    },
    "tags": []
   },
   "outputs": [],
   "source": [
    "# import kaggle_evaluation\n",
    "\n",
    "# kaggle_evaluation.test(Model)"
   ]
  }
 ],
 "metadata": {
  "kaggle": {
   "accelerator": "nvidiaTeslaT4",
   "dataSources": [
    {
     "databundleVersionId": 11228460,
     "sourceId": 89659,
     "sourceType": "competition"
    },
    {
     "sourceId": 224423433,
     "sourceType": "kernelVersion"
    },
    {
     "modelId": 76277,
     "modelInstanceId": 72254,
     "sourceId": 104623,
     "sourceType": "modelInstanceVersion"
    }
   ],
   "dockerImageVersionId": 30918,
   "isGpuEnabled": true,
   "isInternetEnabled": false,
   "language": "python",
   "sourceType": "notebook"
  },
  "kernelspec": {
   "display_name": "Python 3",
   "language": "python",
   "name": "python3"
  },
  "language_info": {
   "codemirror_mode": {
    "name": "ipython",
    "version": 3
   },
   "file_extension": ".py",
   "mimetype": "text/x-python",
   "name": "python",
   "nbconvert_exporter": "python",
   "pygments_lexer": "ipython3",
   "version": "3.10.12"
  },
  "papermill": {
   "default_parameters": {},
   "duration": 14.536076,
   "end_time": "2025-03-16T22:53:12.922557",
   "environment_variables": {},
   "exception": null,
   "input_path": "__notebook__.ipynb",
   "output_path": "__notebook__.ipynb",
   "parameters": {},
   "start_time": "2025-03-16T22:52:58.386481",
   "version": "2.6.0"
  }
 },
 "nbformat": 4,
 "nbformat_minor": 5
}
