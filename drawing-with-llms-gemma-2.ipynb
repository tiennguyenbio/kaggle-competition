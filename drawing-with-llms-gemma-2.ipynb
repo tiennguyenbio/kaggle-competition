{
 "cells": [
  {
   "cell_type": "code",
   "execution_count": 1,
   "id": "b1da6156",
   "metadata": {
    "_cell_guid": "b1076dfc-b9ad-4769-8c92-a6c4dae69d19",
    "_uuid": "8f2839f25d086af736a60e9eeb907d3b93b6e0e5",
    "execution": {
     "iopub.execute_input": "2025-03-17T00:48:04.231744Z",
     "iopub.status.busy": "2025-03-17T00:48:04.231250Z",
     "iopub.status.idle": "2025-03-17T00:48:04.237477Z",
     "shell.execute_reply": "2025-03-17T00:48:04.236359Z"
    },
    "papermill": {
     "duration": 0.011466,
     "end_time": "2025-03-17T00:48:04.239192",
     "exception": false,
     "start_time": "2025-03-17T00:48:04.227726",
     "status": "completed"
    },
    "tags": []
   },
   "outputs": [],
   "source": [
    "#| default_exp core"
   ]
  },
  {
   "cell_type": "code",
   "execution_count": 2,
   "id": "d2b74716",
   "metadata": {
    "execution": {
     "iopub.execute_input": "2025-03-17T00:48:04.243890Z",
     "iopub.status.busy": "2025-03-17T00:48:04.243579Z",
     "iopub.status.idle": "2025-03-17T00:48:04.707151Z",
     "shell.execute_reply": "2025-03-17T00:48:04.705838Z"
    },
    "papermill": {
     "duration": 0.46812,
     "end_time": "2025-03-17T00:48:04.709278",
     "exception": false,
     "start_time": "2025-03-17T00:48:04.241158",
     "status": "completed"
    },
    "tags": []
   },
   "outputs": [],
   "source": [
    "#| export\n",
    "import kagglehub\n",
    "    \n",
    "class Model:\n",
    "    def __init__(self):\n",
    "        self.svg_default = '<svg width=\"100\" height=\"100\" viewBox=\"0 0 100 100\"><circle cx=\"50\" cy=\"50\" r=\"40\" fill=\"red\" /></svg>'\n",
    "        pass\n",
    "    def predict(self, prompt: str) -> str:\n",
    "        return self.svg_default"
   ]
  }
 ],
 "metadata": {
  "kaggle": {
   "accelerator": "none",
   "dataSources": [
    {
     "databundleVersionId": 11228460,
     "sourceId": 89659,
     "sourceType": "competition"
    },
    {
     "modelId": 76277,
     "modelInstanceId": 72254,
     "sourceId": 104623,
     "sourceType": "modelInstanceVersion"
    }
   ],
   "dockerImageVersionId": 30918,
   "isGpuEnabled": false,
   "isInternetEnabled": false,
   "language": "python",
   "sourceType": "notebook"
  },
  "kernelspec": {
   "display_name": "Python 3",
   "language": "python",
   "name": "python3"
  },
  "language_info": {
   "codemirror_mode": {
    "name": "ipython",
    "version": 3
   },
   "file_extension": ".py",
   "mimetype": "text/x-python",
   "name": "python",
   "nbconvert_exporter": "python",
   "pygments_lexer": "ipython3",
   "version": "3.10.12"
  },
  "papermill": {
   "default_parameters": {},
   "duration": 4.055592,
   "end_time": "2025-03-17T00:48:05.333182",
   "environment_variables": {},
   "exception": null,
   "input_path": "__notebook__.ipynb",
   "output_path": "__notebook__.ipynb",
   "parameters": {},
   "start_time": "2025-03-17T00:48:01.277590",
   "version": "2.6.0"
  }
 },
 "nbformat": 4,
 "nbformat_minor": 5
}
