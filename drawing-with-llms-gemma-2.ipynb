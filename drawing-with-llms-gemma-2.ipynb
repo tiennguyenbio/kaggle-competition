{
 "cells": [
  {
   "cell_type": "code",
   "execution_count": null,
   "id": "57bdbced",
   "metadata": {
    "_cell_guid": "b1076dfc-b9ad-4769-8c92-a6c4dae69d19",
    "_uuid": "8f2839f25d086af736a60e9eeb907d3b93b6e0e5",
    "execution": {
     "iopub.execute_input": "2025-03-13T12:39:22.443933Z",
     "iopub.status.busy": "2025-03-13T12:39:22.443470Z",
     "iopub.status.idle": "2025-03-13T12:39:22.448851Z",
     "shell.execute_reply": "2025-03-13T12:39:22.447663Z",
     "shell.execute_reply.started": "2025-03-13T12:39:22.443899Z"
    },
    "papermill": {
     "duration": 0.002962,
     "end_time": "2025-03-13T14:30:06.466254",
     "exception": false,
     "start_time": "2025-03-13T14:30:06.463292",
     "status": "completed"
    },
    "tags": []
   },
   "outputs": [],
   "source": []
  },
  {
   "cell_type": "code",
   "execution_count": 1,
   "id": "18026965",
   "metadata": {
    "execution": {
     "iopub.execute_input": "2025-03-13T14:30:06.475570Z",
     "iopub.status.busy": "2025-03-13T14:30:06.475008Z",
     "iopub.status.idle": "2025-03-13T14:31:10.804831Z",
     "shell.execute_reply": "2025-03-13T14:31:10.803577Z"
    },
    "papermill": {
     "duration": 64.336251,
     "end_time": "2025-03-13T14:31:10.807142",
     "exception": false,
     "start_time": "2025-03-13T14:30:06.470891",
     "status": "completed"
    },
    "tags": []
   },
   "outputs": [
    {
     "data": {
      "application/vnd.jupyter.widget-view+json": {
       "model_id": "49b6db1a12144ea38acac4110d694fa8",
       "version_major": 2,
       "version_minor": 0
      },
      "text/plain": [
       "Loading checkpoint shards:   0%|          | 0/2 [00:00<?, ?it/s]"
      ]
     },
     "metadata": {},
     "output_type": "display_data"
    }
   ],
   "source": [
    "import kagglehub\n",
    "import re\n",
    "import torch\n",
    "from transformers import AutoTokenizer, AutoModelForCausalLM\n",
    "from IPython.display import SVG\n",
    "\n",
    "\n",
    "model_path = kagglehub.model_download(\"google/gemma-2/transformers/gemma-2-2b-it\")\n",
    "tokenizer = AutoTokenizer.from_pretrained(model_path)\n",
    "model = AutoModelForCausalLM.from_pretrained(model_path,device_map=\"auto\")"
   ]
  },
  {
   "cell_type": "code",
   "execution_count": 2,
   "id": "f62ad031",
   "metadata": {
    "execution": {
     "iopub.execute_input": "2025-03-13T14:31:10.814854Z",
     "iopub.status.busy": "2025-03-13T14:31:10.814069Z",
     "iopub.status.idle": "2025-03-13T14:31:10.821094Z",
     "shell.execute_reply": "2025-03-13T14:31:10.819884Z"
    },
    "papermill": {
     "duration": 0.012852,
     "end_time": "2025-03-13T14:31:10.823111",
     "exception": false,
     "start_time": "2025-03-13T14:31:10.810259",
     "status": "completed"
    },
    "tags": []
   },
   "outputs": [],
   "source": [
    "def predict(descriptions: list) -> tuple:\n",
    "    prompt = \"\"\"Generate SVG code to visually represent detailed image from the following text description. CSS style elements are not allowed. Return the full SVG code.\"\"\"\n",
    "    svg_list = []\n",
    "    svg_init = '<svg width=\"100\" height=\"100\" viewBox=\"0 0 100 100\"><circle cx=\"50\" cy=\"50\" r=\"40\" fill=\"red\" /></svg>'\n",
    "    for description in descriptions:\n",
    "        formatted_description = f\"<description>{description}</description>\"\n",
    "        inputs = tokenizer(prompt + formatted_description, return_tensors=\"pt\")\n",
    "        \n",
    "        # Generate the output\n",
    "        output = model.generate(**inputs, max_new_tokens=900)\n",
    "        output_decoded = tokenizer.decode(output[0], skip_special_tokens=True)\n",
    "\n",
    "        # Extract the SVG from the decoded output\n",
    "        matches = re.findall(r\"<svg.*?</svg>\", output_decoded, re.DOTALL | re.IGNORECASE) \n",
    "        if matches:\n",
    "            svg_code = matches[-1]\n",
    "            svg_list.append(svg_code)\n",
    "        else:\n",
    "            svg_list.append(svg_init)\n",
    "    return svg_list"
   ]
  },
  {
   "cell_type": "code",
   "execution_count": 3,
   "id": "73418e93",
   "metadata": {
    "execution": {
     "iopub.execute_input": "2025-03-13T14:31:10.830375Z",
     "iopub.status.busy": "2025-03-13T14:31:10.829873Z",
     "iopub.status.idle": "2025-03-13T14:31:10.854725Z",
     "shell.execute_reply": "2025-03-13T14:31:10.853483Z"
    },
    "papermill": {
     "duration": 0.030877,
     "end_time": "2025-03-13T14:31:10.856863",
     "exception": false,
     "start_time": "2025-03-13T14:31:10.825986",
     "status": "completed"
    },
    "tags": []
   },
   "outputs": [],
   "source": [
    "import pandas as pd\n",
    "\n",
    "# Read the CSV file\n",
    "train = pd.read_csv('/kaggle/input/drawing-with-llms/train.csv')\n",
    "train_list = train['description'].tolist()"
   ]
  },
  {
   "cell_type": "code",
   "execution_count": 4,
   "id": "ed01149e",
   "metadata": {
    "execution": {
     "iopub.execute_input": "2025-03-13T14:31:10.863869Z",
     "iopub.status.busy": "2025-03-13T14:31:10.863488Z",
     "iopub.status.idle": "2025-03-13T14:37:44.106102Z",
     "shell.execute_reply": "2025-03-13T14:37:44.105039Z"
    },
    "papermill": {
     "duration": 393.248562,
     "end_time": "2025-03-13T14:37:44.108289",
     "exception": false,
     "start_time": "2025-03-13T14:31:10.859727",
     "status": "completed"
    },
    "tags": []
   },
   "outputs": [
    {
     "name": "stderr",
     "output_type": "stream",
     "text": [
      "The 'batch_size' attribute of HybridCache is deprecated and will be removed in v4.49. Use the more precisely named 'self.max_batch_size' attribute instead.\n"
     ]
    }
   ],
   "source": [
    "pred1 = predict(train_list[1:3])"
   ]
  },
  {
   "cell_type": "code",
   "execution_count": 5,
   "id": "a28253f9",
   "metadata": {
    "execution": {
     "iopub.execute_input": "2025-03-13T14:37:44.117086Z",
     "iopub.status.busy": "2025-03-13T14:37:44.116713Z",
     "iopub.status.idle": "2025-03-13T14:37:44.123297Z",
     "shell.execute_reply": "2025-03-13T14:37:44.122123Z"
    },
    "papermill": {
     "duration": 0.013151,
     "end_time": "2025-03-13T14:37:44.125415",
     "exception": false,
     "start_time": "2025-03-13T14:37:44.112264",
     "status": "completed"
    },
    "tags": []
   },
   "outputs": [
    {
     "data": {
      "text/plain": [
       "['<svg width=\"200\" height=\"100\" viewBox=\"0 0 200 100\">\\n  <rect x=\"0\" y=\"0\" width=\"200\" height=\"100\" fill=\"black\"/>\\n  <rect x=\"0\" y=\"0\" width=\"20\" height=\"100\" fill=\"white\"/>\\n  <rect x=\"20\" y=\"0\" width=\"180\" height=\"100\" fill=\"black\"/>\\n  <rect x=\"20\" y=\"0\" width=\"20\" height=\"100\" fill=\"white\"/>\\n</svg>',\n",
       " '<svg width=\"500\" height=\"500\" viewBox=\"0 0 500 500\" xmlns=\"http://www.w3.org/2000/svg\">\\n  <rect x=\"100\" y=\"100\" width=\"300\" height=\"300\" fill=\"crimson\" />\\n  <rect x=\"200\" y=\"200\" width=\"100\" height=\"100\" fill=\"crimson\" />\\n  <rect x=\"300\" y=\"300\" width=\"100\" height=\"100\" fill=\"crimson\" />\\n  <rect x=\"400\" y=\"400\" width=\"100\" height=\"100\" fill=\"crimson\" />\\n  <rect x=\"100\" y=\"400\" width=\"100\" height=\"100\" fill=\"crimson\" />\\n  <rect x=\"200\" y=\"300\" width=\"100\" height=\"100\" fill=\"crimson\" />\\n  <rect x=\"300\" y=\"200\" width=\"100\" height=\"100\" fill=\"crimson\" />\\n  <rect x=\"400\" y=\"100\" width=\"100\" height=\"100\" fill=\"crimson\" />\\n</svg>']"
      ]
     },
     "execution_count": 5,
     "metadata": {},
     "output_type": "execute_result"
    }
   ],
   "source": [
    "pred1"
   ]
  },
  {
   "cell_type": "code",
   "execution_count": 6,
   "id": "2120602d",
   "metadata": {
    "execution": {
     "iopub.execute_input": "2025-03-13T14:37:44.133645Z",
     "iopub.status.busy": "2025-03-13T14:37:44.133141Z",
     "iopub.status.idle": "2025-03-13T14:37:44.145008Z",
     "shell.execute_reply": "2025-03-13T14:37:44.143915Z"
    },
    "papermill": {
     "duration": 0.018036,
     "end_time": "2025-03-13T14:37:44.146966",
     "exception": false,
     "start_time": "2025-03-13T14:37:44.128930",
     "status": "completed"
    },
    "tags": []
   },
   "outputs": [
    {
     "name": "stdout",
     "output_type": "stream",
     "text": [
      "<svg width=\"200\" height=\"100\" viewBox=\"0 0 200 100\">\n",
      "  <rect x=\"0\" y=\"0\" width=\"200\" height=\"100\" fill=\"black\"/>\n",
      "  <rect x=\"0\" y=\"0\" width=\"20\" height=\"100\" fill=\"white\"/>\n",
      "  <rect x=\"20\" y=\"0\" width=\"180\" height=\"100\" fill=\"black\"/>\n",
      "  <rect x=\"20\" y=\"0\" width=\"20\" height=\"100\" fill=\"white\"/>\n",
      "</svg>\n"
     ]
    },
    {
     "data": {
      "image/svg+xml": [
       "<svg width=\"200\" height=\"100\" viewBox=\"0 0 200 100\">\n",
       "  <rect x=\"0\" y=\"0\" width=\"200\" height=\"100\" fill=\"black\"/>\n",
       "  <rect x=\"0\" y=\"0\" width=\"20\" height=\"100\" fill=\"white\"/>\n",
       "  <rect x=\"20\" y=\"0\" width=\"180\" height=\"100\" fill=\"black\"/>\n",
       "  <rect x=\"20\" y=\"0\" width=\"20\" height=\"100\" fill=\"white\"/>\n",
       "</svg>"
      ],
      "text/plain": [
       "<IPython.core.display.SVG object>"
      ]
     },
     "metadata": {},
     "output_type": "display_data"
    },
    {
     "name": "stdout",
     "output_type": "stream",
     "text": [
      "<svg width=\"500\" height=\"500\" viewBox=\"0 0 500 500\" xmlns=\"http://www.w3.org/2000/svg\">\n",
      "  <rect x=\"100\" y=\"100\" width=\"300\" height=\"300\" fill=\"crimson\" />\n",
      "  <rect x=\"200\" y=\"200\" width=\"100\" height=\"100\" fill=\"crimson\" />\n",
      "  <rect x=\"300\" y=\"300\" width=\"100\" height=\"100\" fill=\"crimson\" />\n",
      "  <rect x=\"400\" y=\"400\" width=\"100\" height=\"100\" fill=\"crimson\" />\n",
      "  <rect x=\"100\" y=\"400\" width=\"100\" height=\"100\" fill=\"crimson\" />\n",
      "  <rect x=\"200\" y=\"300\" width=\"100\" height=\"100\" fill=\"crimson\" />\n",
      "  <rect x=\"300\" y=\"200\" width=\"100\" height=\"100\" fill=\"crimson\" />\n",
      "  <rect x=\"400\" y=\"100\" width=\"100\" height=\"100\" fill=\"crimson\" />\n",
      "</svg>\n"
     ]
    },
    {
     "data": {
      "image/svg+xml": [
       "<svg xmlns=\"http://www.w3.org/2000/svg\" width=\"500\" height=\"500\" viewBox=\"0 0 500 500\">\n",
       "  <rect x=\"100\" y=\"100\" width=\"300\" height=\"300\" fill=\"crimson\"/>\n",
       "  <rect x=\"200\" y=\"200\" width=\"100\" height=\"100\" fill=\"crimson\"/>\n",
       "  <rect x=\"300\" y=\"300\" width=\"100\" height=\"100\" fill=\"crimson\"/>\n",
       "  <rect x=\"400\" y=\"400\" width=\"100\" height=\"100\" fill=\"crimson\"/>\n",
       "  <rect x=\"100\" y=\"400\" width=\"100\" height=\"100\" fill=\"crimson\"/>\n",
       "  <rect x=\"200\" y=\"300\" width=\"100\" height=\"100\" fill=\"crimson\"/>\n",
       "  <rect x=\"300\" y=\"200\" width=\"100\" height=\"100\" fill=\"crimson\"/>\n",
       "  <rect x=\"400\" y=\"100\" width=\"100\" height=\"100\" fill=\"crimson\"/>\n",
       "</svg>"
      ],
      "text/plain": [
       "<IPython.core.display.SVG object>"
      ]
     },
     "metadata": {},
     "output_type": "display_data"
    }
   ],
   "source": [
    "for svg_code in pred1:\n",
    "    print(svg_code)\n",
    "    display(SVG(svg_code))"
   ]
  }
 ],
 "metadata": {
  "kaggle": {
   "accelerator": "none",
   "dataSources": [
    {
     "databundleVersionId": 11228460,
     "sourceId": 89659,
     "sourceType": "competition"
    },
    {
     "sourceId": 224423433,
     "sourceType": "kernelVersion"
    },
    {
     "modelId": 76277,
     "modelInstanceId": 72254,
     "sourceId": 104623,
     "sourceType": "modelInstanceVersion"
    }
   ],
   "dockerImageVersionId": 30918,
   "isGpuEnabled": false,
   "isInternetEnabled": true,
   "language": "python",
   "sourceType": "notebook"
  },
  "kernelspec": {
   "display_name": "Python 3",
   "language": "python",
   "name": "python3"
  },
  "language_info": {
   "codemirror_mode": {
    "name": "ipython",
    "version": 3
   },
   "file_extension": ".py",
   "mimetype": "text/x-python",
   "name": "python",
   "nbconvert_exporter": "python",
   "pygments_lexer": "ipython3",
   "version": "3.10.12"
  },
  "papermill": {
   "default_parameters": {},
   "duration": 463.542824,
   "end_time": "2025-03-13T14:37:47.071422",
   "environment_variables": {},
   "exception": null,
   "input_path": "__notebook__.ipynb",
   "output_path": "__notebook__.ipynb",
   "parameters": {},
   "start_time": "2025-03-13T14:30:03.528598",
   "version": "2.6.0"
  },
  "widgets": {
   "application/vnd.jupyter.widget-state+json": {
    "state": {
     "2dd9c67aa5a241788a9ea1b21d0a3578": {
      "model_module": "@jupyter-widgets/controls",
      "model_module_version": "2.0.0",
      "model_name": "HTMLStyleModel",
      "state": {
       "_model_module": "@jupyter-widgets/controls",
       "_model_module_version": "2.0.0",
       "_model_name": "HTMLStyleModel",
       "_view_count": null,
       "_view_module": "@jupyter-widgets/base",
       "_view_module_version": "2.0.0",
       "_view_name": "StyleView",
       "background": null,
       "description_width": "",
       "font_size": null,
       "text_color": null
      }
     },
     "49b6db1a12144ea38acac4110d694fa8": {
      "model_module": "@jupyter-widgets/controls",
      "model_module_version": "2.0.0",
      "model_name": "HBoxModel",
      "state": {
       "_dom_classes": [],
       "_model_module": "@jupyter-widgets/controls",
       "_model_module_version": "2.0.0",
       "_model_name": "HBoxModel",
       "_view_count": null,
       "_view_module": "@jupyter-widgets/controls",
       "_view_module_version": "2.0.0",
       "_view_name": "HBoxView",
       "box_style": "",
       "children": [
        "IPY_MODEL_b42a6d0a88c847bcb05a778aadb4f91b",
        "IPY_MODEL_732211eb9cfb49ee8d446f04913bf0c0",
        "IPY_MODEL_95ab6dc9bd1345e2b87becf4e0a58902"
       ],
       "layout": "IPY_MODEL_5c5b4bfeae834cdf805cffcb2b0ac039",
       "tabbable": null,
       "tooltip": null
      }
     },
     "5c5b4bfeae834cdf805cffcb2b0ac039": {
      "model_module": "@jupyter-widgets/base",
      "model_module_version": "2.0.0",
      "model_name": "LayoutModel",
      "state": {
       "_model_module": "@jupyter-widgets/base",
       "_model_module_version": "2.0.0",
       "_model_name": "LayoutModel",
       "_view_count": null,
       "_view_module": "@jupyter-widgets/base",
       "_view_module_version": "2.0.0",
       "_view_name": "LayoutView",
       "align_content": null,
       "align_items": null,
       "align_self": null,
       "border_bottom": null,
       "border_left": null,
       "border_right": null,
       "border_top": null,
       "bottom": null,
       "display": null,
       "flex": null,
       "flex_flow": null,
       "grid_area": null,
       "grid_auto_columns": null,
       "grid_auto_flow": null,
       "grid_auto_rows": null,
       "grid_column": null,
       "grid_gap": null,
       "grid_row": null,
       "grid_template_areas": null,
       "grid_template_columns": null,
       "grid_template_rows": null,
       "height": null,
       "justify_content": null,
       "justify_items": null,
       "left": null,
       "margin": null,
       "max_height": null,
       "max_width": null,
       "min_height": null,
       "min_width": null,
       "object_fit": null,
       "object_position": null,
       "order": null,
       "overflow": null,
       "padding": null,
       "right": null,
       "top": null,
       "visibility": null,
       "width": null
      }
     },
     "6f0c6337442d488dbe4e9f3d7abff28b": {
      "model_module": "@jupyter-widgets/base",
      "model_module_version": "2.0.0",
      "model_name": "LayoutModel",
      "state": {
       "_model_module": "@jupyter-widgets/base",
       "_model_module_version": "2.0.0",
       "_model_name": "LayoutModel",
       "_view_count": null,
       "_view_module": "@jupyter-widgets/base",
       "_view_module_version": "2.0.0",
       "_view_name": "LayoutView",
       "align_content": null,
       "align_items": null,
       "align_self": null,
       "border_bottom": null,
       "border_left": null,
       "border_right": null,
       "border_top": null,
       "bottom": null,
       "display": null,
       "flex": null,
       "flex_flow": null,
       "grid_area": null,
       "grid_auto_columns": null,
       "grid_auto_flow": null,
       "grid_auto_rows": null,
       "grid_column": null,
       "grid_gap": null,
       "grid_row": null,
       "grid_template_areas": null,
       "grid_template_columns": null,
       "grid_template_rows": null,
       "height": null,
       "justify_content": null,
       "justify_items": null,
       "left": null,
       "margin": null,
       "max_height": null,
       "max_width": null,
       "min_height": null,
       "min_width": null,
       "object_fit": null,
       "object_position": null,
       "order": null,
       "overflow": null,
       "padding": null,
       "right": null,
       "top": null,
       "visibility": null,
       "width": null
      }
     },
     "732211eb9cfb49ee8d446f04913bf0c0": {
      "model_module": "@jupyter-widgets/controls",
      "model_module_version": "2.0.0",
      "model_name": "FloatProgressModel",
      "state": {
       "_dom_classes": [],
       "_model_module": "@jupyter-widgets/controls",
       "_model_module_version": "2.0.0",
       "_model_name": "FloatProgressModel",
       "_view_count": null,
       "_view_module": "@jupyter-widgets/controls",
       "_view_module_version": "2.0.0",
       "_view_name": "ProgressView",
       "bar_style": "success",
       "description": "",
       "description_allow_html": false,
       "layout": "IPY_MODEL_d26437b68566437b8c82892a2d7baf07",
       "max": 2.0,
       "min": 0.0,
       "orientation": "horizontal",
       "style": "IPY_MODEL_ec6c6e4bf9b8473c8ff81a86059de440",
       "tabbable": null,
       "tooltip": null,
       "value": 2.0
      }
     },
     "8a37c93556ab439bbd06d8f99099a2b7": {
      "model_module": "@jupyter-widgets/base",
      "model_module_version": "2.0.0",
      "model_name": "LayoutModel",
      "state": {
       "_model_module": "@jupyter-widgets/base",
       "_model_module_version": "2.0.0",
       "_model_name": "LayoutModel",
       "_view_count": null,
       "_view_module": "@jupyter-widgets/base",
       "_view_module_version": "2.0.0",
       "_view_name": "LayoutView",
       "align_content": null,
       "align_items": null,
       "align_self": null,
       "border_bottom": null,
       "border_left": null,
       "border_right": null,
       "border_top": null,
       "bottom": null,
       "display": null,
       "flex": null,
       "flex_flow": null,
       "grid_area": null,
       "grid_auto_columns": null,
       "grid_auto_flow": null,
       "grid_auto_rows": null,
       "grid_column": null,
       "grid_gap": null,
       "grid_row": null,
       "grid_template_areas": null,
       "grid_template_columns": null,
       "grid_template_rows": null,
       "height": null,
       "justify_content": null,
       "justify_items": null,
       "left": null,
       "margin": null,
       "max_height": null,
       "max_width": null,
       "min_height": null,
       "min_width": null,
       "object_fit": null,
       "object_position": null,
       "order": null,
       "overflow": null,
       "padding": null,
       "right": null,
       "top": null,
       "visibility": null,
       "width": null
      }
     },
     "95ab6dc9bd1345e2b87becf4e0a58902": {
      "model_module": "@jupyter-widgets/controls",
      "model_module_version": "2.0.0",
      "model_name": "HTMLModel",
      "state": {
       "_dom_classes": [],
       "_model_module": "@jupyter-widgets/controls",
       "_model_module_version": "2.0.0",
       "_model_name": "HTMLModel",
       "_view_count": null,
       "_view_module": "@jupyter-widgets/controls",
       "_view_module_version": "2.0.0",
       "_view_name": "HTMLView",
       "description": "",
       "description_allow_html": false,
       "layout": "IPY_MODEL_6f0c6337442d488dbe4e9f3d7abff28b",
       "placeholder": "​",
       "style": "IPY_MODEL_95ce77fe869b4fe3bece74d3c8d9afed",
       "tabbable": null,
       "tooltip": null,
       "value": " 2/2 [00:26&lt;00:00, 11.29s/it]"
      }
     },
     "95ce77fe869b4fe3bece74d3c8d9afed": {
      "model_module": "@jupyter-widgets/controls",
      "model_module_version": "2.0.0",
      "model_name": "HTMLStyleModel",
      "state": {
       "_model_module": "@jupyter-widgets/controls",
       "_model_module_version": "2.0.0",
       "_model_name": "HTMLStyleModel",
       "_view_count": null,
       "_view_module": "@jupyter-widgets/base",
       "_view_module_version": "2.0.0",
       "_view_name": "StyleView",
       "background": null,
       "description_width": "",
       "font_size": null,
       "text_color": null
      }
     },
     "b42a6d0a88c847bcb05a778aadb4f91b": {
      "model_module": "@jupyter-widgets/controls",
      "model_module_version": "2.0.0",
      "model_name": "HTMLModel",
      "state": {
       "_dom_classes": [],
       "_model_module": "@jupyter-widgets/controls",
       "_model_module_version": "2.0.0",
       "_model_name": "HTMLModel",
       "_view_count": null,
       "_view_module": "@jupyter-widgets/controls",
       "_view_module_version": "2.0.0",
       "_view_name": "HTMLView",
       "description": "",
       "description_allow_html": false,
       "layout": "IPY_MODEL_8a37c93556ab439bbd06d8f99099a2b7",
       "placeholder": "​",
       "style": "IPY_MODEL_2dd9c67aa5a241788a9ea1b21d0a3578",
       "tabbable": null,
       "tooltip": null,
       "value": "Loading checkpoint shards: 100%"
      }
     },
     "d26437b68566437b8c82892a2d7baf07": {
      "model_module": "@jupyter-widgets/base",
      "model_module_version": "2.0.0",
      "model_name": "LayoutModel",
      "state": {
       "_model_module": "@jupyter-widgets/base",
       "_model_module_version": "2.0.0",
       "_model_name": "LayoutModel",
       "_view_count": null,
       "_view_module": "@jupyter-widgets/base",
       "_view_module_version": "2.0.0",
       "_view_name": "LayoutView",
       "align_content": null,
       "align_items": null,
       "align_self": null,
       "border_bottom": null,
       "border_left": null,
       "border_right": null,
       "border_top": null,
       "bottom": null,
       "display": null,
       "flex": null,
       "flex_flow": null,
       "grid_area": null,
       "grid_auto_columns": null,
       "grid_auto_flow": null,
       "grid_auto_rows": null,
       "grid_column": null,
       "grid_gap": null,
       "grid_row": null,
       "grid_template_areas": null,
       "grid_template_columns": null,
       "grid_template_rows": null,
       "height": null,
       "justify_content": null,
       "justify_items": null,
       "left": null,
       "margin": null,
       "max_height": null,
       "max_width": null,
       "min_height": null,
       "min_width": null,
       "object_fit": null,
       "object_position": null,
       "order": null,
       "overflow": null,
       "padding": null,
       "right": null,
       "top": null,
       "visibility": null,
       "width": null
      }
     },
     "ec6c6e4bf9b8473c8ff81a86059de440": {
      "model_module": "@jupyter-widgets/controls",
      "model_module_version": "2.0.0",
      "model_name": "ProgressStyleModel",
      "state": {
       "_model_module": "@jupyter-widgets/controls",
       "_model_module_version": "2.0.0",
       "_model_name": "ProgressStyleModel",
       "_view_count": null,
       "_view_module": "@jupyter-widgets/base",
       "_view_module_version": "2.0.0",
       "_view_name": "StyleView",
       "bar_color": null,
       "description_width": ""
      }
     }
    },
    "version_major": 2,
    "version_minor": 0
   }
  }
 },
 "nbformat": 4,
 "nbformat_minor": 5
}
