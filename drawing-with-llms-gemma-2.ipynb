{
 "cells": [
  {
   "cell_type": "code",
   "execution_count": 1,
   "id": "3d97d644",
   "metadata": {
    "_cell_guid": "b1076dfc-b9ad-4769-8c92-a6c4dae69d19",
    "_uuid": "8f2839f25d086af736a60e9eeb907d3b93b6e0e5",
    "execution": {
     "iopub.execute_input": "2025-03-14T00:08:39.839543Z",
     "iopub.status.busy": "2025-03-14T00:08:39.839251Z",
     "iopub.status.idle": "2025-03-14T00:08:39.843552Z",
     "shell.execute_reply": "2025-03-14T00:08:39.842723Z"
    },
    "papermill": {
     "duration": 0.008447,
     "end_time": "2025-03-14T00:08:39.844862",
     "exception": false,
     "start_time": "2025-03-14T00:08:39.836415",
     "status": "completed"
    },
    "tags": []
   },
   "outputs": [],
   "source": [
    "#| default_exp core"
   ]
  },
  {
   "cell_type": "code",
   "execution_count": 2,
   "id": "a04b22cf",
   "metadata": {
    "execution": {
     "iopub.execute_input": "2025-03-14T00:08:39.849099Z",
     "iopub.status.busy": "2025-03-14T00:08:39.848873Z",
     "iopub.status.idle": "2025-03-14T00:08:49.769528Z",
     "shell.execute_reply": "2025-03-14T00:08:49.768590Z"
    },
    "papermill": {
     "duration": 9.924409,
     "end_time": "2025-03-14T00:08:49.771178",
     "exception": false,
     "start_time": "2025-03-14T00:08:39.846769",
     "status": "completed"
    },
    "tags": []
   },
   "outputs": [],
   "source": [
    "#| export\n",
    "import kagglehub\n",
    "import re\n",
    "import torch\n",
    "from transformers import AutoTokenizer, AutoModelForCausalLM\n",
    "from IPython.display import SVG\n",
    "\n",
    "svg_constraints = kagglehub.package_import('metric/svg-constraints')\n",
    "DEVICE = torch.device(\"cuda\" if torch.cuda.is_available() else \"cpu\")\n",
    "\n",
    "class ParticipantVisibleError(Exception):\n",
    "    pass\n",
    "    \n",
    "class Model:\n",
    "    def __init__(self):\n",
    "        self.model_path = kagglehub.model_download(\"google/gemma-2/transformers/gemma-2-2b-it\")\n",
    "        self.tokenizer = AutoTokenizer.from_pretrained(self.model_path)\n",
    "        self.model = AutoModelForCausalLM.from_pretrained(\n",
    "            self.model_path,\n",
    "            device_map=\"auto\",\n",
    "            torch_dtype=torch.bfloat16,)\n",
    "        self.prompt = self.prompt = \"\"\"Generate a valid and complete SVG code using given <description>. The output must be started with <svg> element and ended with </svg> element. Use only the following allowed elements and attributes:\n",
    "        \n",
    "        <allowed_elements>: dict[str, set[str]] = {\n",
    "            'common': {\n",
    "                'id', 'clip-path', 'clip-rule', 'color', 'color-interpolation', 'color-interpolation-filters',\n",
    "                'color-rendering', 'display', 'fill', 'fill-opacity', 'fill-rule', 'filter', 'flood-color',\n",
    "                'flood-opacity', 'lighting-color', 'marker-end', 'marker-mid', 'marker-start', 'mask', 'opacity',\n",
    "                'paint-order', 'stop-color', 'stop-opacity', 'stroke', 'stroke-dasharray', 'stroke-dashoffset',\n",
    "                'stroke-linecap', 'stroke-linejoin', 'stroke-miterlimit', 'stroke-opacity', 'stroke-width', 'transform'\n",
    "            },\n",
    "            'svg': {'width', 'height', 'viewBox', 'preserveAspectRatio'},\n",
    "            'g': {'viewBox'},\n",
    "            'defs': set(),\n",
    "            'symbol': {'viewBox', 'x', 'y', 'width', 'height'},\n",
    "            'use': {'x', 'y', 'width', 'height', 'href'},\n",
    "            'marker': {'viewBox', 'preserveAspectRatio', 'refX', 'refY', 'markerUnits', 'markerWidth', 'markerHeight', 'orient'},\n",
    "            'pattern': {'viewBox', 'preserveAspectRatio', 'x', 'y', 'width', 'height', 'patternUnits', 'patternContentUnits', 'patternTransform', 'href'},\n",
    "            'linearGradient': {'x1', 'x2', 'y1', 'y2', 'gradientUnits', 'gradientTransform', 'spreadMethod', 'href'},\n",
    "            'radialGradient': {'cx', 'cy', 'r', 'fx', 'fy', 'fr', 'gradientUnits', 'gradientTransform', 'spreadMethod', 'href'},\n",
    "            'stop': {'offset'},\n",
    "            'filter': {'x', 'y', 'width', 'height', 'filterUnits', 'primitiveUnits'},\n",
    "            'feBlend': {'result', 'in', 'in2', 'mode'},\n",
    "            'feFlood': {'result'},\n",
    "            'feOffset': {'result', 'in', 'dx', 'dy'},\n",
    "            'path': {'d'},\n",
    "            'rect': {'x', 'y', 'width', 'height', 'rx', 'ry'},\n",
    "            'circle': {'cx', 'cy', 'r'},\n",
    "            'ellipse': {'cx', 'cy', 'rx', 'ry'},\n",
    "            'line': {'x1', 'y1', 'x2', 'y2'},\n",
    "            'polyline': {'points'},\n",
    "            'polygon': {'points'}\n",
    "        }\n",
    "           </allowed_elements>\"\"\"\n",
    "        self.svg_default = '<svg width=\"100\" height=\"100\" viewBox=\"0 0 100 100\"><circle cx=\"50\" cy=\"50\" r=\"40\" fill=\"red\" /></svg>'\n",
    "        self.constraints = svg_constraints.SVGConstraints()\n",
    "        pass\n",
    "    def predict(self, description: str) -> str:\n",
    "        formatted_description = f\"<description>{description}</description>\"\n",
    "        inputs = self.tokenizer(self.prompt + formatted_description, return_tensors=\"pt\").to(DEVICE)\n",
    "        \n",
    "        output = self.model.generate(**inputs, max_new_tokens=900)\n",
    "        output_decoded = self.tokenizer.decode(output[0], skip_special_tokens=True)\n",
    "\n",
    "        matches = re.findall(r\"<svg.*?</svg>\", output_decoded, re.DOTALL | re.IGNORECASE)\n",
    "        if matches:\n",
    "            svg_code = matches[-1]\n",
    "        else:\n",
    "            svg_code = self.svg_default\n",
    "\n",
    "        # Validate SVG code against constraints\n",
    "        try:\n",
    "            self.constraints.validate_svg(svg_code)\n",
    "        except:\n",
    "            raise ParticipantVisibleError('SVG code violates constraints.')\n",
    "        \n",
    "        return svg_code\n",
    "        "
   ]
  },
  {
   "cell_type": "code",
   "execution_count": 3,
   "id": "8693ccfc",
   "metadata": {
    "execution": {
     "iopub.execute_input": "2025-03-14T00:08:49.775878Z",
     "iopub.status.busy": "2025-03-14T00:08:49.775521Z",
     "iopub.status.idle": "2025-03-14T00:08:49.778623Z",
     "shell.execute_reply": "2025-03-14T00:08:49.778011Z"
    },
    "papermill": {
     "duration": 0.006539,
     "end_time": "2025-03-14T00:08:49.779716",
     "exception": false,
     "start_time": "2025-03-14T00:08:49.773177",
     "status": "completed"
    },
    "tags": []
   },
   "outputs": [],
   "source": [
    "# from IPython.display import SVG\n",
    "\n",
    "# model = Model()\n",
    "# svg = model.predict('a triangle')\n",
    "\n",
    "# print(svg)\n",
    "# display(SVG(svg))"
   ]
  },
  {
   "cell_type": "code",
   "execution_count": 4,
   "id": "a5247089",
   "metadata": {
    "execution": {
     "iopub.execute_input": "2025-03-14T00:08:49.783388Z",
     "iopub.status.busy": "2025-03-14T00:08:49.783176Z",
     "iopub.status.idle": "2025-03-14T00:16:42.630259Z",
     "shell.execute_reply": "2025-03-14T00:16:42.628840Z"
    },
    "papermill": {
     "duration": 472.850783,
     "end_time": "2025-03-14T00:16:42.632021",
     "exception": false,
     "start_time": "2025-03-14T00:08:49.781238",
     "status": "completed"
    },
    "tags": []
   },
   "outputs": [
    {
     "name": "stdout",
     "output_type": "stream",
     "text": [
      "Creating Model instance...\n"
     ]
    },
    {
     "data": {
      "application/vnd.jupyter.widget-view+json": {
       "model_id": "c75442f451b14d8fa478789f6b5618a8",
       "version_major": 2,
       "version_minor": 0
      },
      "text/plain": [
       "Loading checkpoint shards:   0%|          | 0/2 [00:00<?, ?it/s]"
      ]
     },
     "metadata": {},
     "output_type": "display_data"
    },
    {
     "name": "stdout",
     "output_type": "stream",
     "text": [
      "Running inference tests...\n"
     ]
    },
    {
     "name": "stderr",
     "output_type": "stream",
     "text": [
      "The 'batch_size' attribute of HybridCache is deprecated and will be removed in v4.49. Use the more precisely named 'self.max_batch_size' attribute instead.\n"
     ]
    },
    {
     "name": "stdout",
     "output_type": "stream",
     "text": [
      "Wrote test submission file to \"/tmp/kaggle-evaluation-submission-p5ir_c_l.csv\".\n",
      "Success!\n"
     ]
    }
   ],
   "source": [
    "import kaggle_evaluation\n",
    "\n",
    "kaggle_evaluation.test(Model)"
   ]
  }
 ],
 "metadata": {
  "kaggle": {
   "accelerator": "nvidiaTeslaT4",
   "dataSources": [
    {
     "databundleVersionId": 11228460,
     "sourceId": 89659,
     "sourceType": "competition"
    },
    {
     "sourceId": 224423433,
     "sourceType": "kernelVersion"
    },
    {
     "modelId": 76277,
     "modelInstanceId": 72254,
     "sourceId": 104623,
     "sourceType": "modelInstanceVersion"
    }
   ],
   "dockerImageVersionId": 30918,
   "isGpuEnabled": true,
   "isInternetEnabled": true,
   "language": "python",
   "sourceType": "notebook"
  },
  "kernelspec": {
   "display_name": "Python 3",
   "language": "python",
   "name": "python3"
  },
  "language_info": {
   "codemirror_mode": {
    "name": "ipython",
    "version": 3
   },
   "file_extension": ".py",
   "mimetype": "text/x-python",
   "name": "python",
   "nbconvert_exporter": "python",
   "pygments_lexer": "ipython3",
   "version": "3.10.12"
  },
  "papermill": {
   "default_parameters": {},
   "duration": 487.937482,
   "end_time": "2025-03-14T00:16:45.267023",
   "environment_variables": {},
   "exception": null,
   "input_path": "__notebook__.ipynb",
   "output_path": "__notebook__.ipynb",
   "parameters": {},
   "start_time": "2025-03-14T00:08:37.329541",
   "version": "2.6.0"
  },
  "widgets": {
   "application/vnd.jupyter.widget-state+json": {
    "state": {
     "0637ff48dece497d8e85402754f1cd95": {
      "model_module": "@jupyter-widgets/controls",
      "model_module_version": "2.0.0",
      "model_name": "HTMLModel",
      "state": {
       "_dom_classes": [],
       "_model_module": "@jupyter-widgets/controls",
       "_model_module_version": "2.0.0",
       "_model_name": "HTMLModel",
       "_view_count": null,
       "_view_module": "@jupyter-widgets/controls",
       "_view_module_version": "2.0.0",
       "_view_name": "HTMLView",
       "description": "",
       "description_allow_html": false,
       "layout": "IPY_MODEL_b167a0547ee74c9ab0fe8aa2445780e6",
       "placeholder": "​",
       "style": "IPY_MODEL_b8165156fb3d446489c887474f687390",
       "tabbable": null,
       "tooltip": null,
       "value": " 2/2 [00:46&lt;00:00, 19.62s/it]"
      }
     },
     "11aeb96ca0cc4b6d884f54c617200af7": {
      "model_module": "@jupyter-widgets/base",
      "model_module_version": "2.0.0",
      "model_name": "LayoutModel",
      "state": {
       "_model_module": "@jupyter-widgets/base",
       "_model_module_version": "2.0.0",
       "_model_name": "LayoutModel",
       "_view_count": null,
       "_view_module": "@jupyter-widgets/base",
       "_view_module_version": "2.0.0",
       "_view_name": "LayoutView",
       "align_content": null,
       "align_items": null,
       "align_self": null,
       "border_bottom": null,
       "border_left": null,
       "border_right": null,
       "border_top": null,
       "bottom": null,
       "display": null,
       "flex": null,
       "flex_flow": null,
       "grid_area": null,
       "grid_auto_columns": null,
       "grid_auto_flow": null,
       "grid_auto_rows": null,
       "grid_column": null,
       "grid_gap": null,
       "grid_row": null,
       "grid_template_areas": null,
       "grid_template_columns": null,
       "grid_template_rows": null,
       "height": null,
       "justify_content": null,
       "justify_items": null,
       "left": null,
       "margin": null,
       "max_height": null,
       "max_width": null,
       "min_height": null,
       "min_width": null,
       "object_fit": null,
       "object_position": null,
       "order": null,
       "overflow": null,
       "padding": null,
       "right": null,
       "top": null,
       "visibility": null,
       "width": null
      }
     },
     "3bbd00a6d37544f6a6d30838bb3e27e5": {
      "model_module": "@jupyter-widgets/controls",
      "model_module_version": "2.0.0",
      "model_name": "FloatProgressModel",
      "state": {
       "_dom_classes": [],
       "_model_module": "@jupyter-widgets/controls",
       "_model_module_version": "2.0.0",
       "_model_name": "FloatProgressModel",
       "_view_count": null,
       "_view_module": "@jupyter-widgets/controls",
       "_view_module_version": "2.0.0",
       "_view_name": "ProgressView",
       "bar_style": "success",
       "description": "",
       "description_allow_html": false,
       "layout": "IPY_MODEL_b86af718771543cd872dd5993f00b894",
       "max": 2.0,
       "min": 0.0,
       "orientation": "horizontal",
       "style": "IPY_MODEL_c806e66c296247f48e374cada6620c4b",
       "tabbable": null,
       "tooltip": null,
       "value": 2.0
      }
     },
     "41fd0de89d964f1abfcfbaa4069b968a": {
      "model_module": "@jupyter-widgets/base",
      "model_module_version": "2.0.0",
      "model_name": "LayoutModel",
      "state": {
       "_model_module": "@jupyter-widgets/base",
       "_model_module_version": "2.0.0",
       "_model_name": "LayoutModel",
       "_view_count": null,
       "_view_module": "@jupyter-widgets/base",
       "_view_module_version": "2.0.0",
       "_view_name": "LayoutView",
       "align_content": null,
       "align_items": null,
       "align_self": null,
       "border_bottom": null,
       "border_left": null,
       "border_right": null,
       "border_top": null,
       "bottom": null,
       "display": null,
       "flex": null,
       "flex_flow": null,
       "grid_area": null,
       "grid_auto_columns": null,
       "grid_auto_flow": null,
       "grid_auto_rows": null,
       "grid_column": null,
       "grid_gap": null,
       "grid_row": null,
       "grid_template_areas": null,
       "grid_template_columns": null,
       "grid_template_rows": null,
       "height": null,
       "justify_content": null,
       "justify_items": null,
       "left": null,
       "margin": null,
       "max_height": null,
       "max_width": null,
       "min_height": null,
       "min_width": null,
       "object_fit": null,
       "object_position": null,
       "order": null,
       "overflow": null,
       "padding": null,
       "right": null,
       "top": null,
       "visibility": null,
       "width": null
      }
     },
     "6ecfba8e90704d1b82fdd83555c701d2": {
      "model_module": "@jupyter-widgets/controls",
      "model_module_version": "2.0.0",
      "model_name": "HTMLModel",
      "state": {
       "_dom_classes": [],
       "_model_module": "@jupyter-widgets/controls",
       "_model_module_version": "2.0.0",
       "_model_name": "HTMLModel",
       "_view_count": null,
       "_view_module": "@jupyter-widgets/controls",
       "_view_module_version": "2.0.0",
       "_view_name": "HTMLView",
       "description": "",
       "description_allow_html": false,
       "layout": "IPY_MODEL_41fd0de89d964f1abfcfbaa4069b968a",
       "placeholder": "​",
       "style": "IPY_MODEL_7881637c2bac423bb963374c6e021633",
       "tabbable": null,
       "tooltip": null,
       "value": "Loading checkpoint shards: 100%"
      }
     },
     "7881637c2bac423bb963374c6e021633": {
      "model_module": "@jupyter-widgets/controls",
      "model_module_version": "2.0.0",
      "model_name": "HTMLStyleModel",
      "state": {
       "_model_module": "@jupyter-widgets/controls",
       "_model_module_version": "2.0.0",
       "_model_name": "HTMLStyleModel",
       "_view_count": null,
       "_view_module": "@jupyter-widgets/base",
       "_view_module_version": "2.0.0",
       "_view_name": "StyleView",
       "background": null,
       "description_width": "",
       "font_size": null,
       "text_color": null
      }
     },
     "b167a0547ee74c9ab0fe8aa2445780e6": {
      "model_module": "@jupyter-widgets/base",
      "model_module_version": "2.0.0",
      "model_name": "LayoutModel",
      "state": {
       "_model_module": "@jupyter-widgets/base",
       "_model_module_version": "2.0.0",
       "_model_name": "LayoutModel",
       "_view_count": null,
       "_view_module": "@jupyter-widgets/base",
       "_view_module_version": "2.0.0",
       "_view_name": "LayoutView",
       "align_content": null,
       "align_items": null,
       "align_self": null,
       "border_bottom": null,
       "border_left": null,
       "border_right": null,
       "border_top": null,
       "bottom": null,
       "display": null,
       "flex": null,
       "flex_flow": null,
       "grid_area": null,
       "grid_auto_columns": null,
       "grid_auto_flow": null,
       "grid_auto_rows": null,
       "grid_column": null,
       "grid_gap": null,
       "grid_row": null,
       "grid_template_areas": null,
       "grid_template_columns": null,
       "grid_template_rows": null,
       "height": null,
       "justify_content": null,
       "justify_items": null,
       "left": null,
       "margin": null,
       "max_height": null,
       "max_width": null,
       "min_height": null,
       "min_width": null,
       "object_fit": null,
       "object_position": null,
       "order": null,
       "overflow": null,
       "padding": null,
       "right": null,
       "top": null,
       "visibility": null,
       "width": null
      }
     },
     "b8165156fb3d446489c887474f687390": {
      "model_module": "@jupyter-widgets/controls",
      "model_module_version": "2.0.0",
      "model_name": "HTMLStyleModel",
      "state": {
       "_model_module": "@jupyter-widgets/controls",
       "_model_module_version": "2.0.0",
       "_model_name": "HTMLStyleModel",
       "_view_count": null,
       "_view_module": "@jupyter-widgets/base",
       "_view_module_version": "2.0.0",
       "_view_name": "StyleView",
       "background": null,
       "description_width": "",
       "font_size": null,
       "text_color": null
      }
     },
     "b86af718771543cd872dd5993f00b894": {
      "model_module": "@jupyter-widgets/base",
      "model_module_version": "2.0.0",
      "model_name": "LayoutModel",
      "state": {
       "_model_module": "@jupyter-widgets/base",
       "_model_module_version": "2.0.0",
       "_model_name": "LayoutModel",
       "_view_count": null,
       "_view_module": "@jupyter-widgets/base",
       "_view_module_version": "2.0.0",
       "_view_name": "LayoutView",
       "align_content": null,
       "align_items": null,
       "align_self": null,
       "border_bottom": null,
       "border_left": null,
       "border_right": null,
       "border_top": null,
       "bottom": null,
       "display": null,
       "flex": null,
       "flex_flow": null,
       "grid_area": null,
       "grid_auto_columns": null,
       "grid_auto_flow": null,
       "grid_auto_rows": null,
       "grid_column": null,
       "grid_gap": null,
       "grid_row": null,
       "grid_template_areas": null,
       "grid_template_columns": null,
       "grid_template_rows": null,
       "height": null,
       "justify_content": null,
       "justify_items": null,
       "left": null,
       "margin": null,
       "max_height": null,
       "max_width": null,
       "min_height": null,
       "min_width": null,
       "object_fit": null,
       "object_position": null,
       "order": null,
       "overflow": null,
       "padding": null,
       "right": null,
       "top": null,
       "visibility": null,
       "width": null
      }
     },
     "c75442f451b14d8fa478789f6b5618a8": {
      "model_module": "@jupyter-widgets/controls",
      "model_module_version": "2.0.0",
      "model_name": "HBoxModel",
      "state": {
       "_dom_classes": [],
       "_model_module": "@jupyter-widgets/controls",
       "_model_module_version": "2.0.0",
       "_model_name": "HBoxModel",
       "_view_count": null,
       "_view_module": "@jupyter-widgets/controls",
       "_view_module_version": "2.0.0",
       "_view_name": "HBoxView",
       "box_style": "",
       "children": [
        "IPY_MODEL_6ecfba8e90704d1b82fdd83555c701d2",
        "IPY_MODEL_3bbd00a6d37544f6a6d30838bb3e27e5",
        "IPY_MODEL_0637ff48dece497d8e85402754f1cd95"
       ],
       "layout": "IPY_MODEL_11aeb96ca0cc4b6d884f54c617200af7",
       "tabbable": null,
       "tooltip": null
      }
     },
     "c806e66c296247f48e374cada6620c4b": {
      "model_module": "@jupyter-widgets/controls",
      "model_module_version": "2.0.0",
      "model_name": "ProgressStyleModel",
      "state": {
       "_model_module": "@jupyter-widgets/controls",
       "_model_module_version": "2.0.0",
       "_model_name": "ProgressStyleModel",
       "_view_count": null,
       "_view_module": "@jupyter-widgets/base",
       "_view_module_version": "2.0.0",
       "_view_name": "StyleView",
       "bar_color": null,
       "description_width": ""
      }
     }
    },
    "version_major": 2,
    "version_minor": 0
   }
  }
 },
 "nbformat": 4,
 "nbformat_minor": 5
}
